{
 "cells": [
  {
   "cell_type": "markdown",
   "id": "0fab97c9-8e32-4121-a2f8-075b95216677",
   "metadata": {},
   "source": [
    "Use the dataset __USPS__, available either on torchvision.datasets or on Canvas. It contains images of hand-written digits of size 16 × 16 pixels, with a training set of\n",
    "7291 images and a test set of 2007 images. Implement the label propagation and dynamic label propagation methods. Construct the affinity matrix using a $W_{ij} =\n",
    "exp{(−∥x_{i}−x_{j}∥^{2}/\\sigma^{2})}$, where σ is a tuning parameter. Use 100 random training observations as labeled data and the test data as unlabeled. Run the following methods 10\n",
    "times with different 100 random labeled observations each time, and report the average misclassification error on the test set."
   ]
  },
  {
   "cell_type": "markdown",
   "id": "cece068c-403f-4683-a204-e52d491fcdac",
   "metadata": {},
   "source": [
    "## Import necessary libraries"
   ]
  },
  {
   "cell_type": "code",
   "execution_count": 438,
   "id": "703c369f-ef7c-4ce9-9835-a66c15777d38",
   "metadata": {},
   "outputs": [],
   "source": [
    "import math\n",
    "import random\n",
    "import numpy as np\n",
    "import pandas as pd\n",
    "\n",
    "import scipy\n",
    "%matplotlib inline\n",
    "import matplotlib.pyplot as plt\n",
    "from pylab import rcParams\n",
    "import urllib\n",
    "import sklearn\n",
    "from sklearn.neighbors import KNeighborsClassifier\n",
    "from sklearn.semi_supervised import LabelPropagation\n",
    "from sklearn import neighbors\n",
    "from sklearn import preprocessing\n",
    "from sklearn import metrics\n",
    "from sklearn.metrics import confusion_matrix\n",
    "from sklearn.model_selection import train_test_split"
   ]
  },
  {
   "cell_type": "markdown",
   "id": "806926b3-76cd-4312-9d69-804991a01aaf",
   "metadata": {},
   "source": [
    "## Set plotting options"
   ]
  },
  {
   "cell_type": "code",
   "execution_count": 151,
   "id": "a108c471-5a12-4593-a0b1-34846ecfdfd5",
   "metadata": {},
   "outputs": [
    {
     "data": {
      "text/plain": [
       "<Figure size 1152x1152 with 0 Axes>"
      ]
     },
     "execution_count": 151,
     "metadata": {},
     "output_type": "execute_result"
    },
    {
     "data": {
      "text/plain": [
       "<Figure size 1152x1152 with 0 Axes>"
      ]
     },
     "metadata": {},
     "output_type": "display_data"
    }
   ],
   "source": [
    "plt.figure(figsize=(16,16))"
   ]
  },
  {
   "cell_type": "markdown",
   "id": "31bbfebc-beaf-4b17-9727-7218835f9c55",
   "metadata": {},
   "source": [
    "## Set data paths"
   ]
  },
  {
   "cell_type": "code",
   "execution_count": 341,
   "id": "7352573c-f51c-4577-8cc4-544895b68d42",
   "metadata": {},
   "outputs": [],
   "source": [
    "test_data = r'C:\\...\\knntrain\\usps.t\\usps.t'\n",
    "training_data = r'C:\\...\\knntrain\\usps\\usps'"
   ]
  },
  {
   "cell_type": "markdown",
   "id": "e198d0d2-1f1a-4147-95ff-40d7180fdc07",
   "metadata": {},
   "source": [
    "## Extract image"
   ]
  },
  {
   "cell_type": "code",
   "execution_count": 353,
   "id": "fd4eb14a-435d-441d-97b9-824a9863f80d",
   "metadata": {},
   "outputs": [],
   "source": [
    "def read_image(pixels):\n",
    "    image_array = pixels.split() \n",
    "    label = int(image_array[0]) - 1\n",
    "    image_array.pop(0)\n",
    "    for i in range(len(image_array)):   \n",
    "        image_array[i] = abs(float(image_array[i].split(':')[1]))\n",
    "    return {\n",
    "        'label': label,\n",
    "        'image': np.array(np.array_split(image_array, 16))\n",
    "    }    "
   ]
  },
  {
   "cell_type": "markdown",
   "id": "554a4c7c-ef76-4e23-a6ea-fc5c1a5c387d",
   "metadata": {},
   "source": [
    "## Load image file"
   ]
  },
  {
   "cell_type": "code",
   "execution_count": 354,
   "id": "5efaa4a2-ba47-49f9-bbb9-398c8d6f682a",
   "metadata": {},
   "outputs": [],
   "source": [
    "def load_images(path):\n",
    "    f = open(path, 'r')\n",
    "    lines = f.readlines()\n",
    "    f.close()\n",
    "    images = []\n",
    "    labels = []\n",
    "    for i in range(len(lines)): \n",
    "        img = read_image(lines[i])\n",
    "        images.append(img['image'])  \n",
    "        labels.append(img['label'])\n",
    "    return {\n",
    "        'images': images,\n",
    "        'labels': labels\n",
    "    }"
   ]
  },
  {
   "cell_type": "markdown",
   "id": "bc5e379a-6776-420c-b064-477b506f529b",
   "metadata": {},
   "source": [
    "## Load training images"
   ]
  },
  {
   "cell_type": "code",
   "execution_count": 355,
   "id": "8d48add4-2f70-4ed9-8830-7ddd8416c041",
   "metadata": {},
   "outputs": [],
   "source": [
    "training_images = load_images(training_data)"
   ]
  },
  {
   "cell_type": "markdown",
   "id": "0aa9e2d7-c131-4ba6-b944-9779de96d78e",
   "metadata": {},
   "source": [
    "## Load test images"
   ]
  },
  {
   "cell_type": "code",
   "execution_count": 356,
   "id": "5a6c71ac-8333-4943-bd1c-132108754cf8",
   "metadata": {},
   "outputs": [],
   "source": [
    "test_images = load_images(test_data)"
   ]
  },
  {
   "cell_type": "markdown",
   "id": "2154abe4-7a62-41da-897e-92dbdc90878e",
   "metadata": {},
   "source": [
    "## Show sample training image"
   ]
  },
  {
   "cell_type": "code",
   "execution_count": 357,
   "id": "7d09a08a-887f-4938-a665-2ce5547fe518",
   "metadata": {},
   "outputs": [
    {
     "name": "stdout",
     "output_type": "stream",
     "text": [
      "Image label: 3\n"
     ]
    },
    {
     "data": {
      "image/png": "[encoded data removed]",
      "text/plain": [
       "<Figure size 504x288 with 1 Axes>"
      ]
     },
     "metadata": {},
     "output_type": "display_data"
    }
   ],
   "source": [
    "training_sample_image = training_images['images'][255]\n",
    "training_sample_label = training_images['labels'][255]\n",
    "print(f\"Image label: {training_sample_label}\")\n",
    "plt.imshow(training_sample_image)\n",
    "plt.show()"
   ]
  },
  {
   "cell_type": "markdown",
   "id": "83e06422-cc62-4cca-91f4-9bf36baa44f2",
   "metadata": {},
   "source": [
    "## Show sample test image"
   ]
  },
  {
   "cell_type": "code",
   "execution_count": 358,
   "id": "de2ce2e8-92d9-4756-8817-1ba2aec69152",
   "metadata": {},
   "outputs": [
    {
     "name": "stdout",
     "output_type": "stream",
     "text": [
      "Image label: 6\n"
     ]
    },
    {
     "data": {
      "image/png": "[encoded data removed]",
      "text/plain": [
       "<Figure size 504x288 with 1 Axes>"
      ]
     },
     "metadata": {},
     "output_type": "display_data"
    }
   ],
   "source": [
    "test_sample_image = test_images['images'][150]\n",
    "test_sample_label = test_images['labels'][150]\n",
    "print(f\"Image label: {test_sample_label}\")\n",
    "plt.imshow(test_sample_image)\n",
    "plt.show()"
   ]
  },
  {
   "cell_type": "markdown",
   "id": "feea17ff-ea2a-4fda-8633-e138090c6d9c",
   "metadata": {},
   "source": [
    "## Create models\n",
    "\n",
    "- $k$-NN classifier. Use the k that gives the smallest test error.\n",
    "- Label propagation. Find the σ that gives the smallest test error.\n",
    "- Dynamic label propagation. Find the $\\sigma$ and $k$ that give the smallest test error."
   ]
  },
  {
   "cell_type": "code",
   "execution_count": 486,
   "id": "e9c9f771-ea20-46d7-b574-a39b334b4443",
   "metadata": {},
   "outputs": [],
   "source": [
    "def knn_classifier(x_train, y_train, k): \n",
    "    for i in range(len(x_train)):\n",
    "        tmp = np.array(x_train[i])\n",
    "        x_train[i] = tmp.flatten()\n",
    "    knn = KNeighborsClassifier(n_neighbors=k)\n",
    "    knn.fit(x_train, y_train)\n",
    "    return knn\n",
    "\n",
    "def label_propagation(x_train, masked_labels, σ, k=7): \n",
    "    for i in range(len(x_train)):\n",
    "        tmp = np.array(x_train[i])\n",
    "        x_train[i] = np.array(tmp.flatten())  \n",
    "    g = 1/(σ*σ)\n",
    "    lp = LabelPropagation(gamma=g,n_neighbors=k)\n",
    "    lp.fit(np.array(x_train), masked_labels)\n",
    "    return lp\n",
    "\n",
    "def dynamic_label_propagation(x_train, y_train, σ, k): \n",
    "    return(label_propagation(x_train, y_train, σ, k))"
   ]
  },
  {
   "cell_type": "markdown",
   "id": "846aa319-43e8-4b9a-9398-70e3121b31bc",
   "metadata": {},
   "source": [
    "## Model test helper"
   ]
  },
  {
   "cell_type": "code",
   "execution_count": 441,
   "id": "878a5d37-a3fd-4979-b399-b15377ae4121",
   "metadata": {
    "tags": []
   },
   "outputs": [],
   "source": [
    "def run_model(model, x_test):\n",
    "    for i in range(len(x_test)):\n",
    "        tmp = np.array(x_test[i])\n",
    "        x_test[i] = tmp.flatten()\n",
    "    return model.predict(x_test)"
   ]
  },
  {
   "cell_type": "markdown",
   "id": "9687cd86-5bce-4219-bd24-4a0d89cc02a7",
   "metadata": {
    "tags": []
   },
   "source": [
    "## Generate random subset of training data"
   ]
  },
  {
   "cell_type": "code",
   "execution_count": 442,
   "id": "1f40dcaf-ace0-4810-9129-b10394a913fc",
   "metadata": {
    "tags": []
   },
   "outputs": [],
   "source": [
    "def generate_random(img_arr, label_arr, size):\n",
    "    rand_list = random.sample(range(0, len(img_arr) - 1), size)\n",
    "    imgs = []\n",
    "    labels = []\n",
    "    for i in range(len(rand_list)):\n",
    "        imgs.append(img_arr[rand_list[i]])\n",
    "        labels.append(label_arr[rand_list[i]]) \n",
    "    return [imgs, labels]"
   ]
  },
  {
   "cell_type": "markdown",
   "id": "d4a78e28-fd3e-4348-92d1-c1de3fd573cf",
   "metadata": {},
   "source": [
    "## Mask data"
   ]
  },
  {
   "cell_type": "code",
   "execution_count": 495,
   "id": "d24125a7-7741-41a8-a237-48c1ad7edba9",
   "metadata": {
    "tags": []
   },
   "outputs": [],
   "source": [
    "def mask_data(data, percentage):\n",
    "    labels = data.copy()    \n",
    "    rand_list = random.sample(range(0, len(data) - 1), int(percentage * len(data) - 1))\n",
    "    for i in range(len(rand_list)):\n",
    "        labels[i] = -1    \n",
    "    return labels"
   ]
  },
  {
   "cell_type": "markdown",
   "id": "f2e1cf1f-40f9-4cf8-be37-07cffb4bd805",
   "metadata": {},
   "source": [
    "a) $k$-NN classifier. Use the k that gives the smallest test error."
   ]
  },
  {
   "cell_type": "code",
   "execution_count": 454,
   "id": "3e188970-8cef-4cfc-aae5-9477de541aee",
   "metadata": {
    "tags": []
   },
   "outputs": [
    {
     "name": "stdout",
     "output_type": "stream",
     "text": [
      "k = 1 gives the smallest test error, accuracy = 0.7516691579471849\n"
     ]
    }
   ],
   "source": [
    "k = 1\n",
    "accuracy_list = []\n",
    "for i in range(10):\n",
    "    x_train, y_train = generate_random(training_images['images'],training_images['labels'], 100)\n",
    "    x_test_images, y_test_labels = [test_images['images'], test_images['labels']]\n",
    "    model = knn_classifier(x_train, y_train, k)\n",
    "    y_classified = run_model(model, x_test_images)\n",
    "    accuracy_list.append(metrics.accuracy_score(y_test_labels, y_classified))\n",
    "accuracy = sum(accuracy_list) / 10\n",
    "print(f'k = {k} gives the smallest test error, accuracy = {accuracy}')"
   ]
  },
  {
   "cell_type": "markdown",
   "id": "fde356ca-fce5-4f18-8b89-a243382838b5",
   "metadata": {},
   "source": [
    "b) Label propagation. Find the σ that gives the smallest test error."
   ]
  },
  {
   "cell_type": "code",
   "execution_count": 522,
   "id": "91930bb6-fbcc-4189-859f-85cb11e86339",
   "metadata": {},
   "outputs": [
    {
     "name": "stdout",
     "output_type": "stream",
     "text": [
      "σ = 1 gives the smallest test error, accuracy = 0.7492775286497259\n"
     ]
    }
   ],
   "source": [
    "σ = 1\n",
    "accuracy_list = []   \n",
    "\n",
    "for i in range(10):\n",
    "    x_train, y_train = generate_random(training_images['images'],training_images['labels'], 100)\n",
    "    x_test_images, y_test_labels = [test_images['images'], test_images['labels']]    \n",
    "    # mask 10% of labels\n",
    "    masked_labels = mask_data(y_train, 0.1)\n",
    "    model = label_propagation(x_train, masked_labels, σ)\n",
    "    y_classified = run_model(model, x_test_images)\n",
    "    accuracy_list.append(metrics.accuracy_score(y_test_labels, y_classified))\n",
    "accuracy = sum(accuracy_list) / 10\n",
    "print(f'σ = {σ} gives the smallest test error, accuracy = {accuracy}')"
   ]
  },
  {
   "cell_type": "markdown",
   "id": "70fc4476-84b8-4d25-aa18-c7168fac06e4",
   "metadata": {},
   "source": [
    "c) Dynamic label propagation. Find the σ and k that give the smallest test error."
   ]
  },
  {
   "cell_type": "code",
   "execution_count": 544,
   "id": "358fad16-319b-47a4-bb4f-bb003361bba6",
   "metadata": {},
   "outputs": [
    {
     "name": "stdout",
     "output_type": "stream",
     "text": [
      "k = 11, σ = 1 give the smallest test error, accuracy = 0.7307424015944195\n"
     ]
    }
   ],
   "source": [
    "σ = 1\n",
    "k = 11\n",
    "accuracy_list = []\n",
    "for i in range(10):\n",
    "    x_train, y_train = generate_random(training_images['images'],training_images['labels'], 100)\n",
    "    x_test_images, y_test_labels = [test_images['images'], test_images['labels']]    \n",
    "    # mask 20% of labels\n",
    "    masked_labels = mask_data(y_train, 0.2)\n",
    "    model = dynamic_label_propagation(x_train, masked_labels, σ, k)\n",
    "    y_classified = run_model(model, x_test_images)\n",
    "    accuracy_list.append(metrics.accuracy_score(y_test_labels, y_classified))\n",
    "accuracy = sum(accuracy_list) / 10\n",
    "print(f'k = {k}, σ = {σ} give the smallest test error, accuracy = {accuracy}')"
   ]
  }
 ],
 "metadata": {
  "kernelspec": {
   "display_name": "Python 3 (ipykernel)",
   "language": "python",
   "name": "python3"
  },
  "language_info": {
   "codemirror_mode": {
    "name": "ipython",
    "version": 3
   },
   "file_extension": ".py",
   "mimetype": "text/x-python",
   "name": "python",
   "nbconvert_exporter": "python",
   "pygments_lexer": "ipython3",
   "version": "3.12.4"
  }
 },
 "nbformat": 4,
 "nbformat_minor": 5
}
