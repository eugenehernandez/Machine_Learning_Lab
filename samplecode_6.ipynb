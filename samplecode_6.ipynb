{
 "cells": [
  {
   "cell_type": "markdown",
   "metadata": {
    "_cell_guid": "b1076dfc-b9ad-4769-8c92-a6c4dae69d19",
    "_uuid": "8f2839f25d086af736a60e9eeb907d3b93b6e0e5"
   },
   "source": [
    "From cnntrain and cnntest, the first two digits in each file name represent the resolution $y_{i}$ of the patch (between 10% and 96%).\n",
    "\n",
    "The goal of this project is to train a regression CNN to predict the resolution. We will use the square loss functions on the training examples \n",
    "$(x_{i}, y_{i}), i = 1, ..., n:$\n",
    "\n",
    "$\\begin{equation} S{(W)} = \\frac{1}{n} \\sum_{i=1}^{n} {(y_{i}-f_{W}(x_{i}))^{2} + \\lambda ||W||^{2}} \\end{equation}$\n",
    "\n",
    "Besides the loss function, we will measure the $R^{2}$, defined as:\n",
    "\n",
    "$\\begin{align}\\notag R^{2} = 1 - \\frac{\\sum_{i=1}^{n}{(y_{i}-\\hat{y}_{i})}^{2}}{\\sum_{i=1}^{n}{(y_{i}-\\bar{y})}^{2}} \\end{align}$\n",
    "\n",
    "where $\\hat{y}_{i}= f_{W}{(x_{i})}$ and $\\bar{y} = \\frac{1}{n}\\sum_{i=1}^{n}y_{i}$"
   ]
  },
  {
   "cell_type": "code",
   "execution_count": 48,
   "metadata": {
    "execution": {
     "iopub.execute_input": "2021-10-22T06:35:55.192181Z",
     "iopub.status.busy": "2021-10-22T06:35:55.191671Z",
     "iopub.status.idle": "2021-10-22T06:35:55.203264Z",
     "shell.execute_reply": "2021-10-22T06:35:55.202365Z",
     "shell.execute_reply.started": "2021-10-22T06:35:55.192122Z"
    }
   },
   "outputs": [],
   "source": [
    "# imports  \n",
    "%matplotlib inline\n",
    "import os\n",
    "import numpy as np\n",
    "import pandas as pd\n",
    "import matplotlib.pyplot as plt\n",
    "from sklearn.model_selection import train_test_split\n",
    "import seaborn as sns\n",
    "\n",
    "#imaging libs\n",
    "import cv2\n",
    "import tensorflow as tf\n",
    "import keras\n",
    "from keras.preprocessing.image import (\n",
    "    ImageDataGenerator, load_img\n",
    ")\n",
    "from tensorflow.keras.models import Sequential\n",
    "from tensorflow.keras.layers import (\n",
    "    Conv2D, MaxPooling2D,GlobalAveragePooling2D, MaxPool2D,\n",
    "    Flatten, Dense, Dropout, BatchNormalization,\n",
    ") \n",
    "from tensorflow.keras.optimizers import Adam\n",
    "from tensorflow.keras.callbacks import (\n",
    "    ModelCheckpoint, EarlyStopping, ReduceLROnPlateau\n",
    ")\n",
    "\n",
    "# setting for notebook warnings\n",
    "import warnings\n",
    "warnings.filterwarnings('ignore')"
   ]
  },
  {
   "cell_type": "code",
   "execution_count": 49,
   "metadata": {
    "execution": {
     "iopub.execute_input": "2021-10-22T06:35:55.209237Z",
     "iopub.status.busy": "2021-10-22T06:35:55.208840Z",
     "iopub.status.idle": "2021-10-22T06:35:55.225255Z",
     "shell.execute_reply": "2021-10-22T06:35:55.224289Z",
     "shell.execute_reply.started": "2021-10-22T06:35:55.209197Z"
    }
   },
   "outputs": [
    {
     "name": "stdout",
     "output_type": "stream",
     "text": [
      "Working Directory Contents: ['cnntrain', 'cnntest']\n"
     ]
    }
   ],
   "source": [
    "# check the folders\n",
    "print(\"Working Directory Contents:\", os.listdir(\"../input/patches/patches\"))"
   ]
  },
  {
   "cell_type": "code",
   "execution_count": 50,
   "metadata": {
    "execution": {
     "iopub.execute_input": "2021-10-22T06:35:55.227096Z",
     "iopub.status.busy": "2021-10-22T06:35:55.226825Z",
     "iopub.status.idle": "2021-10-22T06:35:55.231371Z",
     "shell.execute_reply": "2021-10-22T06:35:55.230526Z",
     "shell.execute_reply.started": "2021-10-22T06:35:55.227062Z"
    }
   },
   "outputs": [],
   "source": [
    "# get the images folder path\n",
    "train_dir = \"../input/patches/patches/cnntrain\"\n",
    "test_dir = \"../input/patches/patches/cnntest\""
   ]
  },
  {
   "cell_type": "code",
   "execution_count": 51,
   "metadata": {
    "execution": {
     "iopub.execute_input": "2021-10-22T06:35:55.234845Z",
     "iopub.status.busy": "2021-10-22T06:35:55.234190Z",
     "iopub.status.idle": "2021-10-22T06:35:55.252052Z",
     "shell.execute_reply": "2021-10-22T06:35:55.251320Z",
     "shell.execute_reply.started": "2021-10-22T06:35:55.234803Z"
    }
   },
   "outputs": [
    {
     "name": "stdout",
     "output_type": "stream",
     "text": [
      "Train set has 18059 images\n",
      "Test set has 2262 images\n"
     ]
    }
   ],
   "source": [
    "print(f\"Train set has {len(os.listdir(train_dir))} images\")\n",
    "print(f\"Test set has {len(os.listdir(test_dir))} images\")"
   ]
  },
  {
   "cell_type": "code",
   "execution_count": 52,
   "metadata": {
    "execution": {
     "iopub.execute_input": "2021-10-22T06:35:55.253790Z",
     "iopub.status.busy": "2021-10-22T06:35:55.253106Z",
     "iopub.status.idle": "2021-10-22T06:35:55.468321Z",
     "shell.execute_reply": "2021-10-22T06:35:55.467685Z",
     "shell.execute_reply.started": "2021-10-22T06:35:55.253752Z"
    }
   },
   "outputs": [
    {
     "data": {
      "text/plain": [
       "<matplotlib.image.AxesImage at 0x7f63f6440dd0>"
      ]
     },
     "execution_count": 52,
     "metadata": {},
     "output_type": "execute_result"
    },
    {
     "data": {
      "image/png": "[encoded data removed]",
      "text/plain": [
       "<Figure size 432x288 with 1 Axes>"
      ]
     },
     "metadata": {
      "needs_background": "light"
     },
     "output_type": "display_data"
    }
   ],
   "source": [
    "sample_path = \"../input/patches/patches/cnntrain/10_132506.jpg_02.jpg\"\n",
    "# check sample image\n",
    "img = cv2.imread(sample_path)\n",
    "# change to gray\n",
    "# img =  cv2.cvtColor(img, cv2.COLOR_BGR2GRAY)\n",
    "plt.imshow(img )"
   ]
  },
  {
   "cell_type": "code",
   "execution_count": 53,
   "metadata": {
    "execution": {
     "iopub.execute_input": "2021-10-22T06:35:55.470044Z",
     "iopub.status.busy": "2021-10-22T06:35:55.469607Z",
     "iopub.status.idle": "2021-10-22T06:35:55.475354Z",
     "shell.execute_reply": "2021-10-22T06:35:55.474593Z",
     "shell.execute_reply.started": "2021-10-22T06:35:55.470005Z"
    }
   },
   "outputs": [],
   "source": [
    "\n",
    "# function to get the resolution size from  image path\n",
    "\n",
    "def extract_resolution(img_path):\n",
    "    resolution = img_path.split(\"_\")[0]\n",
    "    try:\n",
    "        return int(resolution)\n",
    "    except Exception as e:\n",
    "        #print(img_path)\n",
    "        #print(f\"Exception occureed  {e}\")\n",
    "        return None"
   ]
  },
  {
   "cell_type": "code",
   "execution_count": 54,
   "metadata": {
    "execution": {
     "iopub.execute_input": "2021-10-22T06:35:55.477123Z",
     "iopub.status.busy": "2021-10-22T06:35:55.476755Z",
     "iopub.status.idle": "2021-10-22T06:35:55.485983Z",
     "shell.execute_reply": "2021-10-22T06:35:55.484939Z",
     "shell.execute_reply.started": "2021-10-22T06:35:55.477084Z"
    }
   },
   "outputs": [
    {
     "data": {
      "text/plain": [
       "10"
      ]
     },
     "execution_count": 54,
     "metadata": {},
     "output_type": "execute_result"
    }
   ],
   "source": [
    "# test with a sample\n",
    "extract_resolution(\"10_132506.jpg_02.jpg\")"
   ]
  },
  {
   "cell_type": "code",
   "execution_count": 55,
   "metadata": {
    "execution": {
     "iopub.execute_input": "2021-10-22T06:35:55.488080Z",
     "iopub.status.busy": "2021-10-22T06:35:55.487751Z",
     "iopub.status.idle": "2021-10-22T06:35:55.495444Z",
     "shell.execute_reply": "2021-10-22T06:35:55.494522Z",
     "shell.execute_reply.started": "2021-10-22T06:35:55.488045Z"
    }
   },
   "outputs": [],
   "source": [
    "# read all image resultions\n",
    "# function to get all resolutions\n",
    "def get_img_resolution_and_images(img_dir):  \n",
    "    res =[]\n",
    "    data =[]\n",
    "    for img_path in os.listdir(img_dir):\n",
    "        resolution = extract_resolution(img_path)\n",
    "        if resolution:\n",
    "            #print(f\"{img_dir}/{img_path}\")\n",
    "            img = cv2.imread(f\"{img_dir}/{img_path}\")                       \n",
    "            # convert to grayscale\n",
    "            #gray_img = cv2.cvtColor(img, cv2.COLOR_BGR2GRAY) \n",
    "            data.append(img)\n",
    "            res.append(resolution)\n",
    "        else:\n",
    "            print(\"An error Occured\")\n",
    "    print(\"Finished extracting\")\n",
    "    \n",
    "    return np.array(data) , np.array(res)"
   ]
  },
  {
   "cell_type": "code",
   "execution_count": 56,
   "metadata": {
    "execution": {
     "iopub.execute_input": "2021-10-22T06:35:55.497654Z",
     "iopub.status.busy": "2021-10-22T06:35:55.496639Z",
     "iopub.status.idle": "2021-10-22T06:36:27.472366Z",
     "shell.execute_reply": "2021-10-22T06:36:27.471567Z",
     "shell.execute_reply.started": "2021-10-22T06:35:55.497598Z"
    }
   },
   "outputs": [
    {
     "name": "stdout",
     "output_type": "stream",
     "text": [
      "Finished extracting\n",
      "An error Occured\n",
      "Finished extracting\n"
     ]
    }
   ],
   "source": [
    "train_data ,train_resolutions = get_img_resolution_and_images(train_dir)\n",
    "test_data ,test_resolutions = get_img_resolution_and_images(test_dir)"
   ]
  },
  {
   "cell_type": "code",
   "execution_count": 57,
   "metadata": {
    "execution": {
     "iopub.execute_input": "2021-10-22T06:36:27.476238Z",
     "iopub.status.busy": "2021-10-22T06:36:27.475686Z",
     "iopub.status.idle": "2021-10-22T06:36:27.482037Z",
     "shell.execute_reply": "2021-10-22T06:36:27.481140Z",
     "shell.execute_reply.started": "2021-10-22T06:36:27.476208Z"
    }
   },
   "outputs": [
    {
     "data": {
      "text/plain": [
       "((18059, 64, 64, 3), (18059,))"
      ]
     },
     "execution_count": 57,
     "metadata": {},
     "output_type": "execute_result"
    }
   ],
   "source": [
    "# check train size\n",
    "train_data.shape , train_resolutions.shape"
   ]
  },
  {
   "cell_type": "code",
   "execution_count": 58,
   "metadata": {
    "execution": {
     "iopub.execute_input": "2021-10-22T06:36:27.484359Z",
     "iopub.status.busy": "2021-10-22T06:36:27.483769Z",
     "iopub.status.idle": "2021-10-22T06:36:27.493323Z",
     "shell.execute_reply": "2021-10-22T06:36:27.492515Z",
     "shell.execute_reply.started": "2021-10-22T06:36:27.484319Z"
    }
   },
   "outputs": [
    {
     "data": {
      "text/plain": [
       "((2261, 64, 64, 3), (2261,))"
      ]
     },
     "execution_count": 58,
     "metadata": {},
     "output_type": "execute_result"
    }
   ],
   "source": [
    "# check test size\n",
    "test_data.shape , test_resolutions.shape"
   ]
  },
  {
   "cell_type": "code",
   "execution_count": 59,
   "metadata": {
    "execution": {
     "iopub.execute_input": "2021-10-22T06:36:27.495093Z",
     "iopub.status.busy": "2021-10-22T06:36:27.494819Z",
     "iopub.status.idle": "2021-10-22T06:36:27.501021Z",
     "shell.execute_reply": "2021-10-22T06:36:27.500323Z",
     "shell.execute_reply.started": "2021-10-22T06:36:27.495057Z"
    }
   },
   "outputs": [],
   "source": [
    "# # divide train data into training and validation set\n",
    "# X_train , Xval , y_train , yval =train_test_split(train_data/255.0 ,\n",
    "#                                                  train_resolutions ,\n",
    "#                                                  test_size=0.15,\n",
    "#                                                  random_state =2021)"
   ]
  },
  {
   "cell_type": "code",
   "execution_count": 60,
   "metadata": {
    "execution": {
     "iopub.execute_input": "2021-10-22T06:36:27.502168Z",
     "iopub.status.busy": "2021-10-22T06:36:27.501975Z",
     "iopub.status.idle": "2021-10-22T06:36:27.586472Z",
     "shell.execute_reply": "2021-10-22T06:36:27.585675Z",
     "shell.execute_reply.started": "2021-10-22T06:36:27.502139Z"
    }
   },
   "outputs": [],
   "source": [
    "from sklearn.utils import shuffle\n",
    "\n",
    "train_data , train_resolutions = shuffle(train_data , train_resolutions , random_state = 42)\n",
    "test_data , test_resolutions = shuffle(test_data , test_resolutions , random_state = 42)"
   ]
  },
  {
   "cell_type": "code",
   "execution_count": 61,
   "metadata": {
    "execution": {
     "iopub.execute_input": "2021-10-22T06:36:27.588214Z",
     "iopub.status.busy": "2021-10-22T06:36:27.587943Z",
     "iopub.status.idle": "2021-10-22T06:36:28.190544Z",
     "shell.execute_reply": "2021-10-22T06:36:28.189785Z",
     "shell.execute_reply.started": "2021-10-22T06:36:27.588179Z"
    }
   },
   "outputs": [],
   "source": [
    "# normalize the images so that pixel ranges from 0 to 1\n",
    "Xtrain , Xtest = train_data/255.0 , test_data/255.0\n",
    "Ytrain , Ytest = train_resolutions , test_resolutions"
   ]
  },
  {
   "cell_type": "code",
   "execution_count": 62,
   "metadata": {
    "execution": {
     "iopub.execute_input": "2021-10-22T06:36:28.193880Z",
     "iopub.status.busy": "2021-10-22T06:36:28.193625Z",
     "iopub.status.idle": "2021-10-22T06:36:28.459956Z",
     "shell.execute_reply": "2021-10-22T06:36:28.459187Z",
     "shell.execute_reply.started": "2021-10-22T06:36:28.193848Z"
    }
   },
   "outputs": [
    {
     "data": {
      "text/plain": [
       "((18059, 64, 64, 3), (18059,), (2261, 64, 64, 3), (2261,))"
      ]
     },
     "execution_count": 62,
     "metadata": {},
     "output_type": "execute_result"
    }
   ],
   "source": [
    "# check the shape of the images\n",
    "Xtrain.shape , Ytrain.shape , Xtest.shape , Ytest.shape"
   ]
  },
  {
   "cell_type": "code",
   "execution_count": 63,
   "metadata": {
    "execution": {
     "iopub.execute_input": "2021-10-22T06:36:28.462208Z",
     "iopub.status.busy": "2021-10-22T06:36:28.461671Z",
     "iopub.status.idle": "2021-10-22T06:36:28.475366Z",
     "shell.execute_reply": "2021-10-22T06:36:28.474593Z",
     "shell.execute_reply.started": "2021-10-22T06:36:28.462165Z"
    }
   },
   "outputs": [],
   "source": [
    "# create baseline model\n",
    "def get_cnn_model():\n",
    "    # build a sequential model\n",
    "    from tensorflow.keras.layers import InputLayer\n",
    "    model = Sequential()\n",
    "    model.add(InputLayer(input_shape=(64, 64, 3)))\n",
    "\n",
    "    # 1st conv block\n",
    "    model.add(Conv2D(64, (5, 5), activation='relu', strides=(1, 1), padding='same'))\n",
    "    model.add(MaxPool2D(pool_size=(2, 2), padding='same'))\n",
    "    # 2nd conv block\n",
    "    model.add(Conv2D(128, (5, 5), activation='relu', strides=(2, 2), padding='same'))\n",
    "    model.add(MaxPool2D(pool_size=(2, 2), padding='same'))\n",
    "    model.add(BatchNormalization())\n",
    "    # 3rd conv block\n",
    "    model.add(Conv2D(256, (3, 3), activation='relu', strides=(2, 2), padding='same'))\n",
    "    model.add(MaxPool2D(pool_size=(2, 2), padding='valid'))\n",
    "    model.add(BatchNormalization())\n",
    "    # 4rd conv block\n",
    "    model.add(Conv2D(160, (3, 3), activation='relu', strides=(1, 1), padding='same'))\n",
    "    model.add(MaxPool2D(pool_size=(2, 2), padding='valid'))\n",
    "    model.add(BatchNormalization())\n",
    "    # 5rd conv block\n",
    "    model.add(Conv2D(64, (3, 3), activation='relu', padding='same'))\n",
    "    model.add(BatchNormalization())\n",
    "    # ANN block\n",
    "    model.add(Flatten())\n",
    "    model.add(Dense(units=100, activation='relu'))\n",
    "    model.add(Dense(units=100, activation='relu'))\n",
    "    model.add(Dropout(0.25))\n",
    "    model.add(Dense(units=32, activation='relu'))\n",
    "    # output layer\n",
    "    model.add(Dense(units=1 , activation='softplus'))\n",
    "    return model"
   ]
  },
  {
   "cell_type": "code",
   "execution_count": 64,
   "metadata": {
    "execution": {
     "iopub.execute_input": "2021-10-22T06:36:28.477088Z",
     "iopub.status.busy": "2021-10-22T06:36:28.476774Z",
     "iopub.status.idle": "2021-10-22T06:36:28.613771Z",
     "shell.execute_reply": "2021-10-22T06:36:28.613101Z",
     "shell.execute_reply.started": "2021-10-22T06:36:28.477008Z"
    }
   },
   "outputs": [
    {
     "name": "stdout",
     "output_type": "stream",
     "text": [
      "Model: \"sequential_3\"\n",
      "_________________________________________________________________\n",
      "Layer (type)                 Output Shape              Param #   \n",
      "=================================================================\n",
      "conv2d_15 (Conv2D)           (None, 64, 64, 64)        4864      \n",
      "_________________________________________________________________\n",
      "max_pooling2d_12 (MaxPooling (None, 32, 32, 64)        0         \n",
      "_________________________________________________________________\n",
      "conv2d_16 (Conv2D)           (None, 16, 16, 128)       204928    \n",
      "_________________________________________________________________\n",
      "max_pooling2d_13 (MaxPooling (None, 8, 8, 128)         0         \n",
      "_________________________________________________________________\n",
      "batch_normalization_12 (Batc (None, 8, 8, 128)         512       \n",
      "_________________________________________________________________\n",
      "conv2d_17 (Conv2D)           (None, 4, 4, 256)         295168    \n",
      "_________________________________________________________________\n",
      "max_pooling2d_14 (MaxPooling (None, 2, 2, 256)         0         \n",
      "_________________________________________________________________\n",
      "batch_normalization_13 (Batc (None, 2, 2, 256)         1024      \n",
      "_________________________________________________________________\n",
      "conv2d_18 (Conv2D)           (None, 2, 2, 160)         368800    \n",
      "_________________________________________________________________\n",
      "max_pooling2d_15 (MaxPooling (None, 1, 1, 160)         0         \n",
      "_________________________________________________________________\n",
      "batch_normalization_14 (Batc (None, 1, 1, 160)         640       \n",
      "_________________________________________________________________\n",
      "conv2d_19 (Conv2D)           (None, 1, 1, 64)          92224     \n",
      "_________________________________________________________________\n",
      "batch_normalization_15 (Batc (None, 1, 1, 64)          256       \n",
      "_________________________________________________________________\n",
      "flatten_3 (Flatten)          (None, 64)                0         \n",
      "_________________________________________________________________\n",
      "dense_12 (Dense)             (None, 100)               6500      \n",
      "_________________________________________________________________\n",
      "dense_13 (Dense)             (None, 100)               10100     \n",
      "_________________________________________________________________\n",
      "dropout_3 (Dropout)          (None, 100)               0         \n",
      "_________________________________________________________________\n",
      "dense_14 (Dense)             (None, 32)                3232      \n",
      "_________________________________________________________________\n",
      "dense_15 (Dense)             (None, 1)                 33        \n",
      "=================================================================\n",
      "Total params: 988,281\n",
      "Trainable params: 987,065\n",
      "Non-trainable params: 1,216\n",
      "_________________________________________________________________\n"
     ]
    }
   ],
   "source": [
    "q1_model = get_cnn_model()\n",
    "\n",
    "\n",
    "# check model summary\n",
    "q1_model.summary()"
   ]
  },
  {
   "cell_type": "markdown",
   "metadata": {},
   "source": [
    "- Train a CNN for 100 epochs with momentum 0.9 using the square loss (1). Use the SGD optimizer with an appropriate learning rate and $\\lambda = 0.0001$ (weight decay).\n",
    "\n",
    "- Start with minibatch size 32 and double it every 20 epochs and to obtain a good training $R^{2}$ (at least 0.9).\n",
    "\n",
    "- Show a plot of the loss function vs epoch number for the training set and the test set.\n",
    "\n",
    "- Show another plot of the training and test $R^{2}$ vs epoch number."
   ]
  },
  {
   "cell_type": "code",
   "execution_count": 65,
   "metadata": {
    "execution": {
     "iopub.execute_input": "2021-10-22T06:36:28.616516Z",
     "iopub.status.busy": "2021-10-22T06:36:28.616326Z",
     "iopub.status.idle": "2021-10-22T06:36:28.628747Z",
     "shell.execute_reply": "2021-10-22T06:36:28.627144Z",
     "shell.execute_reply.started": "2021-10-22T06:36:28.616494Z"
    }
   },
   "outputs": [],
   "source": [
    "# define a function to compute r2 score\n",
    "from keras import backend as K\n",
    "def R2(y_true, y_pred):\n",
    "    SS_res =  K.sum(K.square( y_true-y_pred ))\n",
    "    SS_tot = K.sum(K.square( y_true - K.mean(y_true) ) )\n",
    "    return ( 1 - SS_res/(SS_tot + K.epsilon()) )"
   ]
  },
  {
   "cell_type": "code",
   "execution_count": 66,
   "metadata": {
    "execution": {
     "iopub.execute_input": "2021-10-22T06:36:28.633762Z",
     "iopub.status.busy": "2021-10-22T06:36:28.632215Z",
     "iopub.status.idle": "2021-10-22T06:36:28.641759Z",
     "shell.execute_reply": "2021-10-22T06:36:28.640686Z",
     "shell.execute_reply.started": "2021-10-22T06:36:28.633723Z"
    }
   },
   "outputs": [
    {
     "data": {
      "text/plain": [
       "2261"
      ]
     },
     "execution_count": 66,
     "metadata": {},
     "output_type": "execute_result"
    }
   ],
   "source": [
    "len(Xtest)\n",
    "# batch"
   ]
  },
  {
   "cell_type": "code",
   "execution_count": 67,
   "metadata": {
    "execution": {
     "iopub.execute_input": "2021-10-22T06:36:28.643448Z",
     "iopub.status.busy": "2021-10-22T06:36:28.642948Z",
     "iopub.status.idle": "2021-10-22T06:39:19.588300Z",
     "shell.execute_reply": "2021-10-22T06:39:19.587556Z",
     "shell.execute_reply.started": "2021-10-22T06:36:28.643407Z"
    }
   },
   "outputs": [
    {
     "name": "stdout",
     "output_type": "stream",
     "text": [
      "***** Started Compiling model and optimization...................\n",
      "Begin training ......\n",
      "Epoch 1/100\n",
      "564/564 [==============================] - 6s 10ms/step - loss: 575.2427 - R2: 0.0466 - val_loss: 275.7380 - val_R2: 0.6114\n",
      "Epoch 2/100\n",
      "564/564 [==============================] - 5s 9ms/step - loss: 174.5396 - R2: 0.7074 - val_loss: 869.1945 - val_R2: -0.2151\n",
      "Epoch 3/100\n",
      "564/564 [==============================] - 5s 10ms/step - loss: 121.7243 - R2: 0.7958 - val_loss: 496.4064 - val_R2: 0.3079\n",
      "Epoch 4/100\n",
      "564/564 [==============================] - 5s 9ms/step - loss: 102.0667 - R2: 0.8274 - val_loss: 727.7430 - val_R2: -0.0174\n",
      "Epoch 5/100\n",
      "564/564 [==============================] - 5s 9ms/step - loss: 89.3178 - R2: 0.8505 - val_loss: 104.8659 - val_R2: 0.8551\n",
      "Epoch 6/100\n",
      "564/564 [==============================] - 5s 9ms/step - loss: 78.0501 - R2: 0.8692 - val_loss: 196.7290 - val_R2: 0.7277\n",
      "Epoch 7/100\n",
      "564/564 [==============================] - 5s 9ms/step - loss: 71.4046 - R2: 0.8795 - val_loss: 733.5151 - val_R2: -0.0598\n",
      "Epoch 8/100\n",
      "564/564 [==============================] - 5s 9ms/step - loss: 67.1379 - R2: 0.8865 - val_loss: 126.6393 - val_R2: 0.8182\n",
      "Epoch 9/100\n",
      "564/564 [==============================] - 5s 9ms/step - loss: 59.0649 - R2: 0.9005 - val_loss: 117.6199 - val_R2: 0.8347\n",
      "Epoch 10/100\n",
      "564/564 [==============================] - 6s 10ms/step - loss: 54.7023 - R2: 0.9086 - val_loss: 91.8713 - val_R2: 0.8689\n",
      "Epoch 11/100\n",
      "564/564 [==============================] - 5s 9ms/step - loss: 50.0806 - R2: 0.9156 - val_loss: 186.9362 - val_R2: 0.7418\n",
      "Epoch 12/100\n",
      "564/564 [==============================] - 5s 9ms/step - loss: 46.8209 - R2: 0.9207 - val_loss: 93.1150 - val_R2: 0.8696\n",
      "Epoch 13/100\n",
      "564/564 [==============================] - 5s 9ms/step - loss: 42.1128 - R2: 0.9283 - val_loss: 70.1992 - val_R2: 0.9019\n",
      "Epoch 14/100\n",
      "564/564 [==============================] - 5s 9ms/step - loss: 39.0430 - R2: 0.9341 - val_loss: 142.8841 - val_R2: 0.7952\n",
      "Epoch 15/100\n",
      "564/564 [==============================] - 5s 9ms/step - loss: 38.4630 - R2: 0.9355 - val_loss: 87.5564 - val_R2: 0.8781\n",
      "Epoch 16/100\n",
      "564/564 [==============================] - 5s 10ms/step - loss: 36.8103 - R2: 0.9379 - val_loss: 170.7518 - val_R2: 0.7644\n",
      "Epoch 17/100\n",
      "564/564 [==============================] - 5s 9ms/step - loss: 33.3659 - R2: 0.9435 - val_loss: 83.4775 - val_R2: 0.8813\n",
      "Epoch 18/100\n",
      "564/564 [==============================] - 5s 9ms/step - loss: 32.5919 - R2: 0.9442 - val_loss: 73.5083 - val_R2: 0.8971\n",
      "Epoch 19/100\n",
      "564/564 [==============================] - 5s 9ms/step - loss: 31.8763 - R2: 0.9460 - val_loss: 74.1348 - val_R2: 0.8963\n",
      "Epoch 20/100\n",
      "564/564 [==============================] - 5s 9ms/step - loss: 30.2534 - R2: 0.9489 - val_loss: 73.6830 - val_R2: 0.8975\n",
      "Epoch 21/100\n",
      "564/564 [==============================] - 5s 9ms/step - loss: 28.9727 - R2: 0.9511 - val_loss: 84.4119 - val_R2: 0.8829\n",
      "Epoch 22/100\n",
      "564/564 [==============================] - 5s 9ms/step - loss: 26.9343 - R2: 0.9541 - val_loss: 70.5174 - val_R2: 0.9005\n",
      "Epoch 23/100\n",
      "564/564 [==============================] - 5s 9ms/step - loss: 27.2218 - R2: 0.9540 - val_loss: 73.9768 - val_R2: 0.8951\n",
      "Epoch 24/100\n",
      "564/564 [==============================] - 5s 9ms/step - loss: 27.0739 - R2: 0.9540 - val_loss: 88.2086 - val_R2: 0.8776\n",
      "Epoch 25/100\n",
      "564/564 [==============================] - 5s 9ms/step - loss: 24.9915 - R2: 0.9574 - val_loss: 140.8447 - val_R2: 0.8055\n",
      "Epoch 26/100\n",
      "564/564 [==============================] - 5s 9ms/step - loss: 24.9942 - R2: 0.9581 - val_loss: 93.9013 - val_R2: 0.8665\n",
      "Epoch 27/100\n",
      "564/564 [==============================] - 5s 9ms/step - loss: 24.8163 - R2: 0.9580 - val_loss: 82.0550 - val_R2: 0.8855\n",
      "Epoch 28/100\n",
      "564/564 [==============================] - 5s 9ms/step - loss: 23.6606 - R2: 0.9595 - val_loss: 82.9082 - val_R2: 0.8823\n",
      "Epoch 29/100\n",
      "564/564 [==============================] - 6s 10ms/step - loss: 22.5262 - R2: 0.9613 - val_loss: 80.6087 - val_R2: 0.8877\n",
      "Epoch 30/100\n",
      "564/564 [==============================] - 5s 9ms/step - loss: 23.0222 - R2: 0.9611 - val_loss: 72.6878 - val_R2: 0.8983\n",
      "Epoch 31/100\n",
      "564/564 [==============================] - 5s 9ms/step - loss: 22.0933 - R2: 0.9625 - val_loss: 77.5253 - val_R2: 0.8922\n",
      "Epoch 32/100\n",
      "564/564 [==============================] - 5s 9ms/step - loss: 22.2474 - R2: 0.9625 - val_loss: 107.5271 - val_R2: 0.8510\n",
      "Epoch 33/100\n",
      "564/564 [==============================] - 5s 9ms/step - loss: 21.4606 - R2: 0.9639 - val_loss: 75.2144 - val_R2: 0.8948\n"
     ]
    }
   ],
   "source": [
    "# the baseline model is going to be done with a small number of epochs\n",
    "# compile \n",
    "LR = 1e-5\n",
    "epochs = 100\n",
    "batch =32\n",
    "\n",
    "from sklearn.metrics import r2_score\n",
    "from tensorflow.keras.optimizers import SGD\n",
    "optimizer = SGD(decay=0.0001,lr=LR , momentum=0.9)\n",
    "# set early stopping\n",
    "early_stop = EarlyStopping(monitor=\"val_R2\",mode=\"max\",patience=20,restore_best_weights=True)\n",
    "\n",
    "print(\"***** Started Compiling model and optimization...................\")\n",
    "q1_model.compile(\n",
    "    loss=\"mse\", \n",
    "    optimizer=optimizer ,\n",
    "    metrics=[R2]\n",
    ")\n",
    "\n",
    "# train \n",
    "print(\"Begin training ......\")\n",
    "q1_history= q1_model.fit(Xtrain, Ytrain, batch_size=batch,\n",
    "                    steps_per_epoch=len(Xtrain)//batch,\n",
    "                    validation_data=(Xtest, Ytest),\n",
    "                    validation_steps=len(Xtest) // batch,\n",
    "                    epochs=epochs,\n",
    "                    callbacks =[early_stop]\n",
    "                      )\n"
   ]
  },
  {
   "cell_type": "code",
   "execution_count": 68,
   "metadata": {
    "execution": {
     "iopub.execute_input": "2021-10-22T06:39:19.589936Z",
     "iopub.status.busy": "2021-10-22T06:39:19.589616Z",
     "iopub.status.idle": "2021-10-22T06:39:53.390016Z",
     "shell.execute_reply": "2021-10-22T06:39:53.388296Z",
     "shell.execute_reply.started": "2021-10-22T06:39:19.589899Z"
    }
   },
   "outputs": [
    {
     "name": "stdout",
     "output_type": "stream",
     "text": [
      "The model R2 score is  0.9068\n"
     ]
    }
   ],
   "source": [
    "preds =q1_model.predict(Xtest)\n",
    "\n",
    "print(f\"The model R2 score is  {np.round(r2_score(Ytest , preds) ,4)}\")"
   ]
  },
  {
   "cell_type": "code",
   "execution_count": 69,
   "metadata": {
    "execution": {
     "iopub.execute_input": "2021-10-22T06:39:53.391797Z",
     "iopub.status.busy": "2021-10-22T06:39:53.391522Z",
     "iopub.status.idle": "2021-10-22T06:39:53.402347Z",
     "shell.execute_reply": "2021-10-22T06:39:53.401529Z",
     "shell.execute_reply.started": "2021-10-22T06:39:53.391759Z"
    }
   },
   "outputs": [],
   "source": [
    "   \n",
    "def create_review_plots(history , Question):    \n",
    "    fig, axes = plt.subplots(1, 2, figsize=(15,5))\n",
    "    plt.title(f\"\\t\\t***********{Question} Evaluation Plots *************\")\n",
    "    axes[0].plot(history.history['R2'] , label =\"trainning r2\" )\n",
    "    axes[0].plot(history.history['val_R2'], label = \"validation r2\")\n",
    "    axes[0].set_xlabel('Epochs')\n",
    "    axes[0].set_ylabel('r2_score')\n",
    "    axes[0].legend(['r2_score Train','r2_score Test'])\n",
    "    axes[0].grid(True)\n",
    "\n",
    "    axes[1].plot(history.history['loss'] , label=\"trainning loss\")\n",
    "    axes[1].plot(history.history['val_loss'] , label=\"validation loss\")\n",
    "    axes[1].set_xlabel('Epochs')\n",
    "    axes[1].set_ylabel('Error')\n",
    "    axes[1].legend(['Error Train','Error Test'])\n",
    "    axes[1].grid(True)\n",
    "    axes[1].set_ylim([0 , None])\n",
    "    axes[0].set_ylim([0 , None])\n",
    "    axes[1].set_title(f\"{Question} Model Loss Evaluation \" , c ='red' , fontsize =15)\n",
    "    axes[0].set_title(f\"{Question} Model R2 Evaluation \" , c ='red' , fontsize =15)"
   ]
  },
  {
   "cell_type": "code",
   "execution_count": 70,
   "metadata": {
    "execution": {
     "iopub.execute_input": "2021-10-22T06:39:53.404072Z",
     "iopub.status.busy": "2021-10-22T06:39:53.403776Z",
     "iopub.status.idle": "2021-10-22T06:39:53.790478Z",
     "shell.execute_reply": "2021-10-22T06:39:53.789822Z",
     "shell.execute_reply.started": "2021-10-22T06:39:53.404031Z"
    }
   },
   "outputs": [
    {
     "data": {
      "image/png": "[encoded data removed]",
      "text/plain": [
       "<Figure size 1080x360 with 2 Axes>"
      ]
     },
     "metadata": {
      "needs_background": "light"
     },
     "output_type": "display_data"
    }
   ],
   "source": [
    "create_review_plots(q1_history , \"Q1\")"
   ]
  },
  {
   "cell_type": "markdown",
   "metadata": {
    "execution": {
     "iopub.execute_input": "2021-10-21T10:19:37.624414Z",
     "iopub.status.busy": "2021-10-21T10:19:37.621839Z",
     "iopub.status.idle": "2021-10-21T10:19:37.632649Z",
     "shell.execute_reply": "2021-10-21T10:19:37.631306Z",
     "shell.execute_reply.started": "2021-10-21T10:19:37.624373Z"
    }
   },
   "source": [
    "Now with a fixed minibatch of 512. You may not see a training $R^{2}$ of at least 0.9 in this case."
   ]
  },
  {
   "cell_type": "code",
   "execution_count": 71,
   "metadata": {
    "execution": {
     "iopub.execute_input": "2021-10-22T06:39:53.792130Z",
     "iopub.status.busy": "2021-10-22T06:39:53.791740Z",
     "iopub.status.idle": "2021-10-22T06:39:53.914917Z",
     "shell.execute_reply": "2021-10-22T06:39:53.914251Z",
     "shell.execute_reply.started": "2021-10-22T06:39:53.792091Z"
    }
   },
   "outputs": [],
   "source": [
    "q2_model = get_cnn_model()"
   ]
  },
  {
   "cell_type": "code",
   "execution_count": 72,
   "metadata": {
    "execution": {
     "iopub.execute_input": "2021-10-22T06:39:53.916779Z",
     "iopub.status.busy": "2021-10-22T06:39:53.916278Z",
     "iopub.status.idle": "2021-10-22T06:44:32.801769Z",
     "shell.execute_reply": "2021-10-22T06:44:32.801061Z",
     "shell.execute_reply.started": "2021-10-22T06:39:53.916742Z"
    }
   },
   "outputs": [
    {
     "name": "stdout",
     "output_type": "stream",
     "text": [
      "***** Started Compiling model and optimization...................\n",
      "Begin training ......\n",
      "Epoch 1/100\n",
      "36/36 [==============================] - 4s 87ms/step - loss: 3245.1729 - R2: -4.1300 - val_loss: 3254.4211 - val_R2: -3.3264\n",
      "Epoch 2/100\n",
      "36/36 [==============================] - 3s 79ms/step - loss: 1882.6202 - R2: -1.9505 - val_loss: 2743.8130 - val_R2: -2.6463\n",
      "Epoch 3/100\n",
      "36/36 [==============================] - 3s 77ms/step - loss: 405.6252 - R2: 0.3613 - val_loss: 1681.3706 - val_R2: -1.2334\n",
      "Epoch 4/100\n",
      "36/36 [==============================] - 3s 76ms/step - loss: 215.2199 - R2: 0.6600 - val_loss: 1408.7610 - val_R2: -0.8706\n",
      "Epoch 5/100\n",
      "36/36 [==============================] - 3s 76ms/step - loss: 184.7774 - R2: 0.7066 - val_loss: 1254.7499 - val_R2: -0.6661\n",
      "Epoch 6/100\n",
      "36/36 [==============================] - 3s 76ms/step - loss: 175.4587 - R2: 0.7210 - val_loss: 1064.0404 - val_R2: -0.4110\n",
      "Epoch 7/100\n",
      "36/36 [==============================] - 3s 77ms/step - loss: 142.9724 - R2: 0.7743 - val_loss: 952.0701 - val_R2: -0.2631\n",
      "Epoch 8/100\n",
      "36/36 [==============================] - 3s 75ms/step - loss: 139.4302 - R2: 0.7776 - val_loss: 967.2446 - val_R2: -0.2839\n",
      "Epoch 9/100\n",
      "36/36 [==============================] - 3s 76ms/step - loss: 121.7892 - R2: 0.8071 - val_loss: 755.2011 - val_R2: -0.0024\n",
      "Epoch 10/100\n",
      "36/36 [==============================] - 3s 76ms/step - loss: 111.5833 - R2: 0.8230 - val_loss: 759.8811 - val_R2: -0.0103\n",
      "Epoch 11/100\n",
      "36/36 [==============================] - 3s 77ms/step - loss: 108.7622 - R2: 0.8272 - val_loss: 543.3149 - val_R2: 0.2788\n",
      "Epoch 12/100\n",
      "36/36 [==============================] - 3s 75ms/step - loss: 105.0440 - R2: 0.8325 - val_loss: 518.3098 - val_R2: 0.3098\n",
      "Epoch 13/100\n",
      "36/36 [==============================] - 3s 76ms/step - loss: 97.8757 - R2: 0.8419 - val_loss: 523.7230 - val_R2: 0.3026\n",
      "Epoch 14/100\n",
      "36/36 [==============================] - 3s 79ms/step - loss: 95.9551 - R2: 0.8478 - val_loss: 441.5841 - val_R2: 0.4133\n",
      "Epoch 15/100\n",
      "36/36 [==============================] - 3s 78ms/step - loss: 93.4710 - R2: 0.8523 - val_loss: 596.4940 - val_R2: 0.2082\n",
      "Epoch 16/100\n",
      "36/36 [==============================] - 3s 77ms/step - loss: 84.0646 - R2: 0.8665 - val_loss: 358.8284 - val_R2: 0.5220\n",
      "Epoch 17/100\n",
      "36/36 [==============================] - 3s 76ms/step - loss: 79.0025 - R2: 0.8750 - val_loss: 377.0796 - val_R2: 0.4989\n",
      "Epoch 18/100\n",
      "36/36 [==============================] - 3s 76ms/step - loss: 77.5028 - R2: 0.8771 - val_loss: 227.4308 - val_R2: 0.6989\n",
      "Epoch 19/100\n",
      "36/36 [==============================] - 3s 78ms/step - loss: 75.4821 - R2: 0.8797 - val_loss: 169.5113 - val_R2: 0.7749\n",
      "Epoch 20/100\n",
      "36/36 [==============================] - 3s 76ms/step - loss: 69.6245 - R2: 0.8895 - val_loss: 252.7384 - val_R2: 0.6643\n",
      "Epoch 21/100\n",
      "36/36 [==============================] - 3s 76ms/step - loss: 68.3009 - R2: 0.8914 - val_loss: 271.8855 - val_R2: 0.6390\n",
      "Epoch 22/100\n",
      "36/36 [==============================] - 3s 76ms/step - loss: 64.4405 - R2: 0.8982 - val_loss: 371.8272 - val_R2: 0.5045\n",
      "Epoch 23/100\n",
      "36/36 [==============================] - 3s 77ms/step - loss: 61.8756 - R2: 0.9018 - val_loss: 340.4100 - val_R2: 0.5490\n",
      "Epoch 24/100\n",
      "36/36 [==============================] - 3s 76ms/step - loss: 59.9031 - R2: 0.9046 - val_loss: 130.7066 - val_R2: 0.8262\n",
      "Epoch 25/100\n",
      "36/36 [==============================] - 3s 76ms/step - loss: 57.9347 - R2: 0.9082 - val_loss: 131.7193 - val_R2: 0.8258\n",
      "Epoch 26/100\n",
      "36/36 [==============================] - 3s 79ms/step - loss: 60.3705 - R2: 0.9035 - val_loss: 151.8624 - val_R2: 0.8008\n",
      "Epoch 27/100\n",
      "36/36 [==============================] - 3s 77ms/step - loss: 58.8145 - R2: 0.9068 - val_loss: 305.3738 - val_R2: 0.5940\n",
      "Epoch 28/100\n",
      "36/36 [==============================] - 3s 77ms/step - loss: 55.5755 - R2: 0.9121 - val_loss: 168.5539 - val_R2: 0.7774\n",
      "Epoch 29/100\n",
      "36/36 [==============================] - 3s 76ms/step - loss: 51.9409 - R2: 0.9178 - val_loss: 110.8360 - val_R2: 0.8531\n",
      "Epoch 30/100\n",
      "36/36 [==============================] - 3s 76ms/step - loss: 51.3454 - R2: 0.9185 - val_loss: 160.5710 - val_R2: 0.7869\n",
      "Epoch 31/100\n",
      "36/36 [==============================] - 3s 78ms/step - loss: 49.9314 - R2: 0.9203 - val_loss: 144.8813 - val_R2: 0.8092\n",
      "Epoch 32/100\n",
      "36/36 [==============================] - 3s 76ms/step - loss: 49.5257 - R2: 0.9213 - val_loss: 138.1100 - val_R2: 0.8183\n",
      "Epoch 33/100\n",
      "36/36 [==============================] - 3s 75ms/step - loss: 49.8363 - R2: 0.9210 - val_loss: 105.1260 - val_R2: 0.8605\n",
      "Epoch 34/100\n",
      "36/36 [==============================] - 3s 76ms/step - loss: 47.7030 - R2: 0.9244 - val_loss: 117.2494 - val_R2: 0.8445\n",
      "Epoch 35/100\n",
      "36/36 [==============================] - 3s 78ms/step - loss: 44.1492 - R2: 0.9300 - val_loss: 137.7187 - val_R2: 0.8185\n",
      "Epoch 36/100\n",
      "36/36 [==============================] - 3s 76ms/step - loss: 46.0066 - R2: 0.9264 - val_loss: 396.1523 - val_R2: 0.4747\n",
      "Epoch 37/100\n",
      "36/36 [==============================] - 3s 80ms/step - loss: 45.3949 - R2: 0.9276 - val_loss: 368.6519 - val_R2: 0.5076\n",
      "Epoch 38/100\n",
      "36/36 [==============================] - 3s 77ms/step - loss: 45.0836 - R2: 0.9281 - val_loss: 201.3167 - val_R2: 0.7351\n",
      "Epoch 39/100\n",
      "36/36 [==============================] - 3s 76ms/step - loss: 45.4491 - R2: 0.9279 - val_loss: 123.7761 - val_R2: 0.8369\n",
      "Epoch 40/100\n",
      "36/36 [==============================] - 3s 76ms/step - loss: 44.1416 - R2: 0.9297 - val_loss: 164.6990 - val_R2: 0.7831\n",
      "Epoch 41/100\n",
      "36/36 [==============================] - 3s 77ms/step - loss: 43.8366 - R2: 0.9307 - val_loss: 133.1499 - val_R2: 0.8253\n",
      "Epoch 42/100\n",
      "36/36 [==============================] - 3s 77ms/step - loss: 43.7020 - R2: 0.9303 - val_loss: 147.0562 - val_R2: 0.8040\n",
      "Epoch 43/100\n",
      "36/36 [==============================] - 3s 76ms/step - loss: 41.4594 - R2: 0.9340 - val_loss: 135.9768 - val_R2: 0.8177\n",
      "Epoch 44/100\n",
      "36/36 [==============================] - 3s 76ms/step - loss: 41.8756 - R2: 0.9334 - val_loss: 238.4916 - val_R2: 0.6853\n",
      "Epoch 45/100\n",
      "36/36 [==============================] - 3s 77ms/step - loss: 40.1899 - R2: 0.9356 - val_loss: 144.7719 - val_R2: 0.8086\n",
      "Epoch 46/100\n",
      "36/36 [==============================] - 3s 77ms/step - loss: 40.3456 - R2: 0.9349 - val_loss: 103.3924 - val_R2: 0.8631\n",
      "Epoch 47/100\n",
      "36/36 [==============================] - 3s 77ms/step - loss: 38.2201 - R2: 0.9382 - val_loss: 245.4900 - val_R2: 0.6727\n",
      "Epoch 48/100\n",
      "36/36 [==============================] - 3s 76ms/step - loss: 39.9360 - R2: 0.9362 - val_loss: 124.3612 - val_R2: 0.8353\n",
      "Epoch 49/100\n",
      "36/36 [==============================] - 3s 78ms/step - loss: 39.3810 - R2: 0.9373 - val_loss: 636.6172 - val_R2: 0.1463\n",
      "Epoch 50/100\n",
      "36/36 [==============================] - 3s 78ms/step - loss: 38.0580 - R2: 0.9394 - val_loss: 107.1820 - val_R2: 0.8584\n",
      "Epoch 51/100\n",
      "36/36 [==============================] - 3s 76ms/step - loss: 37.7404 - R2: 0.9399 - val_loss: 105.9674 - val_R2: 0.8596\n",
      "Epoch 52/100\n",
      "36/36 [==============================] - 3s 76ms/step - loss: 37.9594 - R2: 0.9401 - val_loss: 152.3814 - val_R2: 0.7977\n",
      "Epoch 53/100\n",
      "36/36 [==============================] - 3s 76ms/step - loss: 36.4561 - R2: 0.9418 - val_loss: 110.7020 - val_R2: 0.8538\n",
      "Epoch 54/100\n",
      "36/36 [==============================] - 3s 77ms/step - loss: 37.7576 - R2: 0.9395 - val_loss: 106.4026 - val_R2: 0.8598\n",
      "Epoch 55/100\n",
      "36/36 [==============================] - 3s 76ms/step - loss: 36.2067 - R2: 0.9421 - val_loss: 129.5765 - val_R2: 0.8274\n",
      "Epoch 56/100\n",
      "36/36 [==============================] - 3s 76ms/step - loss: 36.1567 - R2: 0.9424 - val_loss: 209.9884 - val_R2: 0.7220\n",
      "Epoch 57/100\n",
      "36/36 [==============================] - 3s 76ms/step - loss: 38.0450 - R2: 0.9392 - val_loss: 196.4602 - val_R2: 0.7395\n",
      "Epoch 58/100\n",
      "36/36 [==============================] - 3s 77ms/step - loss: 35.9902 - R2: 0.9424 - val_loss: 113.7653 - val_R2: 0.8501\n",
      "Epoch 59/100\n",
      "36/36 [==============================] - 3s 77ms/step - loss: 36.0180 - R2: 0.9429 - val_loss: 117.1144 - val_R2: 0.8447\n",
      "Epoch 60/100\n",
      "36/36 [==============================] - 3s 76ms/step - loss: 35.4128 - R2: 0.9433 - val_loss: 110.5174 - val_R2: 0.8543\n",
      "Epoch 61/100\n",
      "36/36 [==============================] - 3s 79ms/step - loss: 33.9724 - R2: 0.9455 - val_loss: 160.0905 - val_R2: 0.7889\n",
      "Epoch 62/100\n",
      "36/36 [==============================] - 3s 77ms/step - loss: 33.8947 - R2: 0.9463 - val_loss: 121.3812 - val_R2: 0.8408\n",
      "Epoch 63/100\n",
      "36/36 [==============================] - 3s 76ms/step - loss: 33.9691 - R2: 0.9456 - val_loss: 127.7262 - val_R2: 0.8304\n",
      "Epoch 64/100\n",
      "36/36 [==============================] - 3s 76ms/step - loss: 34.0673 - R2: 0.9457 - val_loss: 120.9971 - val_R2: 0.8399\n",
      "Epoch 65/100\n",
      "36/36 [==============================] - 3s 76ms/step - loss: 34.3318 - R2: 0.9451 - val_loss: 124.2332 - val_R2: 0.8363\n",
      "Epoch 66/100\n",
      "36/36 [==============================] - 3s 77ms/step - loss: 33.8796 - R2: 0.9461 - val_loss: 169.5633 - val_R2: 0.7754\n",
      "Epoch 67/100\n",
      "36/36 [==============================] - 3s 76ms/step - loss: 32.6737 - R2: 0.9481 - val_loss: 111.5225 - val_R2: 0.8525\n",
      "Epoch 68/100\n",
      "36/36 [==============================] - 3s 76ms/step - loss: 34.0701 - R2: 0.9458 - val_loss: 141.2597 - val_R2: 0.8135\n",
      "Epoch 69/100\n",
      "36/36 [==============================] - 3s 76ms/step - loss: 33.2393 - R2: 0.9470 - val_loss: 102.4084 - val_R2: 0.8646\n",
      "Epoch 70/100\n",
      "36/36 [==============================] - 3s 78ms/step - loss: 32.2883 - R2: 0.9488 - val_loss: 100.5348 - val_R2: 0.8674\n",
      "Epoch 71/100\n",
      "36/36 [==============================] - 3s 77ms/step - loss: 31.9484 - R2: 0.9494 - val_loss: 106.8791 - val_R2: 0.8594\n",
      "Epoch 72/100\n",
      "36/36 [==============================] - 3s 77ms/step - loss: 32.9540 - R2: 0.9474 - val_loss: 99.6324 - val_R2: 0.8690\n",
      "Epoch 73/100\n",
      "36/36 [==============================] - 3s 77ms/step - loss: 31.2446 - R2: 0.9508 - val_loss: 135.9344 - val_R2: 0.8213\n",
      "Epoch 74/100\n",
      "36/36 [==============================] - 3s 77ms/step - loss: 31.9224 - R2: 0.9493 - val_loss: 120.0745 - val_R2: 0.8405\n",
      "Epoch 75/100\n",
      "36/36 [==============================] - 3s 76ms/step - loss: 32.8785 - R2: 0.9470 - val_loss: 102.5222 - val_R2: 0.8648\n",
      "Epoch 76/100\n",
      "36/36 [==============================] - 3s 76ms/step - loss: 31.0896 - R2: 0.9509 - val_loss: 99.8317 - val_R2: 0.8682\n",
      "Epoch 77/100\n",
      "36/36 [==============================] - 3s 76ms/step - loss: 30.8763 - R2: 0.9509 - val_loss: 242.7238 - val_R2: 0.6797\n",
      "Epoch 78/100\n",
      "36/36 [==============================] - 3s 78ms/step - loss: 30.8418 - R2: 0.9501 - val_loss: 157.9634 - val_R2: 0.7914\n",
      "Epoch 79/100\n",
      "36/36 [==============================] - 3s 76ms/step - loss: 31.1914 - R2: 0.9503 - val_loss: 157.4771 - val_R2: 0.7930\n",
      "Epoch 80/100\n",
      "36/36 [==============================] - 3s 76ms/step - loss: 30.6163 - R2: 0.9514 - val_loss: 107.9964 - val_R2: 0.8572\n",
      "Epoch 81/100\n",
      "36/36 [==============================] - 3s 76ms/step - loss: 31.4587 - R2: 0.9500 - val_loss: 139.7807 - val_R2: 0.8158\n",
      "Epoch 82/100\n",
      "36/36 [==============================] - 3s 77ms/step - loss: 31.0120 - R2: 0.9504 - val_loss: 102.9633 - val_R2: 0.8633\n",
      "Epoch 83/100\n",
      "36/36 [==============================] - 3s 76ms/step - loss: 30.4323 - R2: 0.9517 - val_loss: 106.2959 - val_R2: 0.8590\n",
      "Epoch 84/100\n",
      "36/36 [==============================] - 3s 79ms/step - loss: 29.5768 - R2: 0.9532 - val_loss: 115.0279 - val_R2: 0.8475\n",
      "Epoch 85/100\n",
      "36/36 [==============================] - 3s 76ms/step - loss: 29.7773 - R2: 0.9526 - val_loss: 134.8834 - val_R2: 0.8233\n",
      "Epoch 86/100\n",
      "36/36 [==============================] - 3s 77ms/step - loss: 30.2612 - R2: 0.9514 - val_loss: 150.0463 - val_R2: 0.8002\n",
      "Epoch 87/100\n",
      "36/36 [==============================] - 3s 75ms/step - loss: 30.5963 - R2: 0.9513 - val_loss: 130.1377 - val_R2: 0.8299\n",
      "Epoch 88/100\n",
      "36/36 [==============================] - 3s 76ms/step - loss: 28.7225 - R2: 0.9544 - val_loss: 159.5936 - val_R2: 0.7889\n",
      "Epoch 89/100\n",
      "36/36 [==============================] - 3s 76ms/step - loss: 29.3289 - R2: 0.9535 - val_loss: 159.9360 - val_R2: 0.7873\n",
      "Epoch 90/100\n",
      "36/36 [==============================] - 3s 78ms/step - loss: 29.4381 - R2: 0.9526 - val_loss: 346.3106 - val_R2: 0.5385\n",
      "Epoch 91/100\n",
      "36/36 [==============================] - 3s 76ms/step - loss: 29.3164 - R2: 0.9538 - val_loss: 216.0023 - val_R2: 0.7163\n",
      "Epoch 92/100\n",
      "36/36 [==============================] - 3s 76ms/step - loss: 29.9140 - R2: 0.9527 - val_loss: 112.5293 - val_R2: 0.8523\n",
      "Epoch 93/100\n",
      "36/36 [==============================] - 3s 75ms/step - loss: 29.2693 - R2: 0.9532 - val_loss: 166.6797 - val_R2: 0.7818\n",
      "Epoch 94/100\n",
      "36/36 [==============================] - 3s 77ms/step - loss: 28.9530 - R2: 0.9541 - val_loss: 128.0221 - val_R2: 0.8307\n",
      "Epoch 95/100\n",
      "36/36 [==============================] - 3s 76ms/step - loss: 29.7963 - R2: 0.9526 - val_loss: 156.4848 - val_R2: 0.7933\n",
      "Epoch 96/100\n",
      "36/36 [==============================] - 3s 78ms/step - loss: 29.4114 - R2: 0.9526 - val_loss: 119.6711 - val_R2: 0.8429\n",
      "Epoch 97/100\n",
      "36/36 [==============================] - 3s 76ms/step - loss: 28.5213 - R2: 0.9546 - val_loss: 106.2646 - val_R2: 0.8596\n",
      "Epoch 98/100\n",
      "36/36 [==============================] - 3s 78ms/step - loss: 27.6394 - R2: 0.9560 - val_loss: 188.0523 - val_R2: 0.7508\n",
      "Epoch 99/100\n",
      "36/36 [==============================] - 3s 76ms/step - loss: 28.3648 - R2: 0.9546 - val_loss: 166.3638 - val_R2: 0.7779\n",
      "Epoch 100/100\n",
      "36/36 [==============================] - 3s 76ms/step - loss: 29.7548 - R2: 0.9527 - val_loss: 124.4634 - val_R2: 0.8352\n"
     ]
    }
   ],
   "source": [
    "# the baseline model is going to be done with a small number of epochs\n",
    "# compile \n",
    "LR = 5e-6\n",
    "epochs = 100\n",
    "batch =512\n",
    "\n",
    "from sklearn.metrics import r2_score\n",
    "from tensorflow.keras.optimizers import SGD\n",
    "optimizer = SGD(decay=0.0001,lr=LR , momentum=0.9)\n",
    "\n",
    "print(\"***** Started Compiling model and optimization...................\")\n",
    "q2_model.compile(\n",
    "    loss=\"mse\", \n",
    "    optimizer=optimizer ,\n",
    "    metrics=[R2]\n",
    ")\n",
    "\n",
    "# train \n",
    "print(\"Begin training ......\")\n",
    "q2_history = q2_model.fit(Xtrain, Ytrain, batch_size=batch,\n",
    "                    validation_data=(Xtest, Ytest),\n",
    "                    epochs=epochs)\n"
   ]
  },
  {
   "cell_type": "code",
   "execution_count": 73,
   "metadata": {
    "execution": {
     "iopub.execute_input": "2021-10-22T06:44:32.806068Z",
     "iopub.status.busy": "2021-10-22T06:44:32.805853Z",
     "iopub.status.idle": "2021-10-22T06:44:33.228157Z",
     "shell.execute_reply": "2021-10-22T06:44:33.227460Z",
     "shell.execute_reply.started": "2021-10-22T06:44:32.806041Z"
    }
   },
   "outputs": [
    {
     "data": {
      "image/png": "[encoded data removed]",
      "text/plain": [
       "<Figure size 1080x360 with 2 Axes>"
      ]
     },
     "metadata": {
      "needs_background": "light"
     },
     "output_type": "display_data"
    }
   ],
   "source": [
    "###### \n",
    "create_review_plots(q2_history , \"Q2\")"
   ]
  },
  {
   "cell_type": "code",
   "execution_count": 74,
   "metadata": {
    "execution": {
     "iopub.execute_input": "2021-10-22T06:44:33.231916Z",
     "iopub.status.busy": "2021-10-22T06:44:33.231708Z",
     "iopub.status.idle": "2021-10-22T06:44:33.747892Z",
     "shell.execute_reply": "2021-10-22T06:44:33.746261Z",
     "shell.execute_reply.started": "2021-10-22T06:44:33.231890Z"
    }
   },
   "outputs": [
    {
     "name": "stdout",
     "output_type": "stream",
     "text": [
      "The model R2 score is  0.8351\n"
     ]
    }
   ],
   "source": [
    "print(f\"The model R2 score is  {np.round(r2_score(Ytest ,  q2_model.predict(Xtest)) ,4)}\")"
   ]
  },
  {
   "cell_type": "code",
   "execution_count": 75,
   "metadata": {
    "execution": {
     "iopub.execute_input": "2021-10-22T06:44:33.749351Z",
     "iopub.status.busy": "2021-10-22T06:44:33.749096Z",
     "iopub.status.idle": "2021-10-22T06:44:37.314947Z",
     "shell.execute_reply": "2021-10-22T06:44:37.314142Z",
     "shell.execute_reply.started": "2021-10-22T06:44:33.749311Z"
    }
   },
   "outputs": [],
   "source": [
    "# plotting residual plot\n",
    "residuals_test = Ytest-np.array([x[0] for x in q1_model.predict(Xtest) ])\n",
    "residuals_train = Ytrain-np.array([x[0] for x in q1_model.predict(Xtrain)])"
   ]
  },
  {
   "cell_type": "code",
   "execution_count": 76,
   "metadata": {
    "execution": {
     "iopub.execute_input": "2021-10-22T06:44:37.318873Z",
     "iopub.status.busy": "2021-10-22T06:44:37.318636Z",
     "iopub.status.idle": "2021-10-22T06:44:38.488634Z",
     "shell.execute_reply": "2021-10-22T06:44:38.487911Z",
     "shell.execute_reply.started": "2021-10-22T06:44:37.318844Z"
    }
   },
   "outputs": [
    {
     "data": {
      "text/plain": [
       "Text(0.5, 1.0, 'Train Resdual Plot ')"
      ]
     },
     "execution_count": 76,
     "metadata": {},
     "output_type": "execute_result"
    },
    {
     "data": {
      "image/png": "[encoded data removed]",
      "text/plain": [
       "<Figure size 1080x360 with 2 Axes>"
      ]
     },
     "metadata": {
      "needs_background": "light"
     },
     "output_type": "display_data"
    }
   ],
   "source": [
    "fig, axes = plt.subplots(1, 2, figsize=(15,5))\n",
    "plt.title(f\"\\t\\t***********Residual Evaluation Plots *************\")\n",
    "axes[0].scatter(residuals_test,Ytest , label = 'test resid values')\n",
    "axes[0].plot(np.unique(sorted(Ytest)) , color =\"r\" , label='actual test line')\n",
    "axes[0].legend()\n",
    "axes[0].set_title(f\"Test Residual Plot\" , c ='red' , fontsize =13)\n",
    "\n",
    "axes[1].scatter(residuals_train,Ytrain , label = 'train resid values')\n",
    "axes[1].plot(np.unique(sorted(Ytrain)) , color =\"r\" , label='actual train line')\n",
    "axes[1].legend()\n",
    "axes[1].set_title(f\"Train Resdual Plot \" , c ='red' , fontsize =13)"
   ]
  }
 ],
 "metadata": {
  "kernelspec": {
   "display_name": "Python 3",
   "language": "python",
   "name": "python3"
  },
  "language_info": {
   "codemirror_mode": {
    "name": "ipython",
    "version": 3
   },
   "file_extension": ".py",
   "mimetype": "text/x-python",
   "name": "python",
   "nbconvert_exporter": "python",
   "pygments_lexer": "ipython3",
   "version": "3.6.13"
  }
 },
 "nbformat": 4,
 "nbformat_minor": 4
}
